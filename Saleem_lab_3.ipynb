{
  "cells": [
    {
      "attachments": {},
      "cell_type": "markdown",
      "metadata": {
        "id": "gPcHI1EFeQg7"
      },
      "source": [
        "# Computational Mathematics: Trapezoidal and Simpsons Rules"
      ]
    },
    {
      "cell_type": "code",
      "execution_count": null,
      "metadata": {
        "id": "b5Rp9QhheQhB"
      },
      "outputs": [
        {
          "ename": "",
          "evalue": "",
          "output_type": "error",
          "traceback": [
            "\u001b[1;31mJupyter cannot be started. Error attempting to locate Jupyter: Running cells with 'Python 3.10.4 64-bit' requires notebook and jupyter package.\n",
            "\u001b[1;31mRun the following command to install 'jupyter and notebook' into the Python environment. \n",
            "\u001b[1;31mCommand: 'python -m pip install jupyter notebook -U\n",
            "\u001b[1;31mor\n",
            "\u001b[1;31mconda install jupyter notebook -U'\n",
            "\u001b[1;31mClick <a href='https://aka.ms/installJupyterForVSCode'>here</a> for more info."
          ]
        }
      ],
      "source": [
        "# IMPORTS\n",
        "import numpy as np\n",
        "import matplotlib.pyplot as plt\n",
        "import sympy as sp\n",
        "e = np.exp(1)\n",
        "sin = np.sin\n",
        "cos = np.cos\n",
        "sq = np.sqrt\n",
        "pi = np.pi"
      ]
    },
    {
      "cell_type": "markdown",
      "metadata": {
        "id": "6ciOfzq3eQhD"
      },
      "source": [
        "## Trapezoidal and Simpson's Rules"
      ]
    },
    {
      "cell_type": "markdown",
      "metadata": {
        "id": "gJjadN6SeQhD"
      },
      "source": [
        "### Exercise 1\n",
        "\n",
        "#### Part 1 \n",
        "Write a function that compute the integral using the Trapezoidal Rule. The function should take in arguments $f$, $a$, $b$, and $n$ (the number of points) and return the approxiation of $\\int_a^b f(x)dx$."
      ]
    },
    {
      "cell_type": "code",
      "execution_count": 2,
      "metadata": {
        "id": "DW25wvSZeQhE"
      },
      "outputs": [],
      "source": [
        "i = 0\n",
        "def my_trapezoidal(f, a, b, n):\n",
        "  h = (b - a)/n\n",
        "\n",
        "\n",
        "  sum = 0\n",
        "  for i in range(1,n): \n",
        "    sum += 2* f(a + i*h)\n",
        "  integral = (h/2)*(f(a)+sum+f(b))\n",
        "\n",
        "  print(f\" The approximation of the integral between {a} and {b} is : {integral}. \")\n",
        "  return integral\n",
        "\n"
      ]
    },
    {
      "cell_type": "markdown",
      "metadata": {
        "id": "bQtmeUAweQhE"
      },
      "source": [
        "#### Part 2\n",
        "\n",
        "Test your trapezoid function by comparing the result from your trapezoid function and an integral that you know the exact value of. You should compute the trapezoid rule with different $n$ and see if you get closer the exact value the larger $n$ is. **Plot the error**"
      ]
    },
    {
      "cell_type": "code",
      "execution_count": 3,
      "metadata": {
        "colab": {
          "base_uri": "https://localhost:8080/",
          "height": 336
        },
        "id": "qZdHaGXOeQhE",
        "outputId": "0897d5f2-b354-43bc-9f36-1c39972d6b6e"
      },
      "outputs": [
        {
          "name": "stdout",
          "output_type": "stream",
          "text": [
            " The approximation of the integral between 1 and 3 is : 9.0. \n",
            " The approximation of the integral between 1 and 3 is : 8.68. \n",
            " The approximation of the integral between 1 and 3 is : 8.666671999999998. \n"
          ]
        },
        {
          "data": {
            "text/plain": [
              "[<matplotlib.lines.Line2D at 0x7f81882894d0>]"
            ]
          },
          "execution_count": 3,
          "metadata": {},
          "output_type": "execute_result"
        },
        {
          "data": {
            "image/png": "[encoded data removed]",
            "text/plain": [
              "<Figure size 432x288 with 1 Axes>"
            ]
          },
          "metadata": {
            "needs_background": "light"
          },
          "output_type": "display_data"
        }
      ],
      "source": [
        "\n",
        "f = lambda x: x**2\n",
        "my_trapezoidal(f, 1, 3, 2)\n",
        "my_trapezoidal(f, 1, 3, 10)\n",
        "my_trapezoidal(f, 1, 3, 500)\n",
        "x = 26/4\n",
        "n = [2,10,50]\n",
        "error = [x - 9, x - 8.68, x - 8.667200000000001]\n",
        "plt.plot(np.abs(error),n , label = \"Error\")"
      ]
    },
    {
      "cell_type": "markdown",
      "metadata": {
        "id": "DUnlW3e4eQhF"
      },
      "source": [
        "### Exercise 2\n",
        "\n",
        "#### Part 1\n",
        "Write a function that compute the integral using the  Simpson's Rule Rule. The function should take in arguments $f$, $a$, $b$, and $n$ (the number of points) and return the approxiation of $\\int_a^b f(x)dx$."
      ]
    },
    {
      "cell_type": "code",
      "execution_count": 4,
      "metadata": {
        "id": "ungJCkEgeQhH"
      },
      "outputs": [],
      "source": [
        "i = 0\n",
        "def my_simp(f, a, b, n):\n",
        "  h = (b - a)/n\n",
        "\n",
        "  sum = 0\n",
        "  for i in range(1,n): \n",
        "    if i % 2 != 0:\n",
        "      sum += 4* f(a + i*h)\n",
        "    \n",
        "    else:\n",
        "      sum += 2* f(a + i*h)\n",
        "      \n",
        "    integral = (h/3)*(f(a) + sum + f(b))\n",
        "\n",
        "  print(f\" The approximation of the integral between {a} and {b} is : {integral}. \")\n",
        "  return integral, i"
      ]
    },
    {
      "cell_type": "code",
      "execution_count": null,
      "metadata": {
        "id": "rQfXjVSTJ7WU"
      },
      "outputs": [],
      "source": [
        "\n",
        "  "
      ]
    },
    {
      "cell_type": "markdown",
      "metadata": {
        "id": "bdT2n3kBeQhH"
      },
      "source": [
        "#### Part 2\n",
        "\n",
        "Test your simpson function by comparing the result from your simpson function and an integral that you know the exact value of. You should compute the simpson rule with different $n$ and see if you get closer the exact value the larger $n$ is. **Plot the error**"
      ]
    },
    {
      "cell_type": "code",
      "execution_count": 5,
      "metadata": {
        "colab": {
          "base_uri": "https://localhost:8080/",
          "height": 319
        },
        "id": "bsS6iQhIeQhI",
        "outputId": "f7641e55-f5dd-408c-dab5-61df737abec8"
      },
      "outputs": [
        {
          "name": "stdout",
          "output_type": "stream",
          "text": [
            " The approximation of the integral between 1 and 3 is : 48.666666666666664. \n",
            " The approximation of the integral between 1 and 3 is : 48.400426666666675. \n",
            " The approximation of the integral between 1 and 3 is : 48.40000068266667. \n"
          ]
        },
        {
          "data": {
            "image/png": "[encoded data removed]",
            "text/plain": [
              "<Figure size 432x288 with 1 Axes>"
            ]
          },
          "metadata": {
            "needs_background": "light"
          },
          "output_type": "display_data"
        }
      ],
      "source": [
        "f = lambda x: x**4\n",
        "my_simp(f, 1, 3, 2)\n",
        "my_simp(f, 1, 3, 10)\n",
        "my_simp(f, 1, 3, 50)\n",
        "y = [48.666666666666664,48.400426666666675,48.40000068266667]\n",
        "x = 242/5\n",
        "n = [2,10,50]\n",
        "error = [x - 48.666666666666664, x - 48.400426666666675, x - 48.40000068266667]\n",
        "\n",
        "plt.plot(np.abs(error), n,  label = \"Error\")\n",
        "plt.legend()\n",
        "plt.show()"
      ]
    },
    {
      "cell_type": "markdown",
      "metadata": {
        "id": "D_zKESZkeQhI"
      },
      "source": [
        "### Exercise 3\n",
        "\n",
        "Use the Trapezoidal Rule and Simpson's Rule with $n=50$ to find approximate values of the following integrals.\n",
        "1. $\\int_0^{6} e^{\\frac{-x^2}{2}} dx$, \n",
        "2. $\\int_0^{\\pi^2} x^{3}\\sin(\\sqrt{x}) dx$, \n",
        "3. $\\int_{-1}^{3} \\sqrt{x^2+e^{x/3}} dx$, "
      ]
    },
    {
      "cell_type": "code",
      "execution_count": 6,
      "metadata": {
        "colab": {
          "base_uri": "https://localhost:8080/"
        },
        "id": "_QmIMCfgeQhL",
        "outputId": "10987b8c-d251-4762-e352-e275c29bfb1a"
      },
      "outputs": [
        {
          "name": "stdout",
          "output_type": "stream",
          "text": [
            " The approximation of the integral between 0 and 6 is : 1.2533141347336956. \n",
            " The approximation of the integral between 0 and 6 is : 1.253314134839183. \n",
            " The approximation of the integral between 0 and 9.869604401089358 is : 757.727032077257. \n",
            " The approximation of the integral between 0 and 9.869604401089358 is : 758.2236326400199. \n",
            " The approximation of the integral between -1 and 3 is : 7.2135683380677165. \n",
            " The approximation of the integral between -1 and 3 is : 7.212671689207884. \n"
          ]
        },
        {
          "data": {
            "text/plain": [
              "(7.212671689207884, 49)"
            ]
          },
          "execution_count": 6,
          "metadata": {},
          "output_type": "execute_result"
        }
      ],
      "source": [
        "#1 Trapezoidal\n",
        "f = lambda x: e**(-x**2 / 2)\n",
        "my_trapezoidal(f, 0, 6, 50)\n",
        "my_simp(f, 0, 6, 50)\n",
        "#2 Trapezoidal\n",
        "f = lambda x: x**3 *sin(sq(x))\n",
        "my_trapezoidal(f, 0, pi**2, 50)\n",
        "my_simp(f, 0, pi**2, 50)\n",
        "#3 Trapezoidal\n",
        "f = lambda x: sq(x**2 + e**(x/3))\n",
        "my_trapezoidal(f, -1, 3, 50)\n",
        "my_simp(f, -1, 3, 50)"
      ]
    },
    {
      "cell_type": "code",
      "execution_count": 7,
      "metadata": {
        "colab": {
          "base_uri": "https://localhost:8080/"
        },
        "id": "HJsD6mCzB5aY",
        "outputId": "4f3330f1-2fd2-4927-913f-84cd558857f0"
      },
      "outputs": [
        {
          "data": {
            "text/plain": [
              "7.213605304427856"
            ]
          },
          "execution_count": 7,
          "metadata": {},
          "output_type": "execute_result"
        }
      ],
      "source": [
        "#TEST TRAP\n",
        "x = np.linspace(-1, 3, 50)\n",
        "# function v\n",
        "y = sq(x**2 + e**(x/3))\n",
        "np.trapz(y, x)"
      ]
    },
    {
      "cell_type": "markdown",
      "metadata": {
        "id": "c7x0lPoFeQhL"
      },
      "source": [
        "### Exercise 4\n",
        "\n",
        "Find a way to compute $\\log(x)$ using an integral. Once you have that integral approximate $\\log(2)$ and $\\log(3)$."
      ]
    },
    {
      "cell_type": "code",
      "execution_count": 11,
      "metadata": {
        "colab": {
          "base_uri": "https://localhost:8080/"
        },
        "id": "dioJRVcNeQhL",
        "outputId": "4cd436a0-c1a7-4b49-c39a-8cb205697424"
      },
      "outputs": [
        {
          "name": "stdout",
          "output_type": "stream",
          "text": [
            " The approximation of the integral between 1 and 2 is : 0.6931721793101953. \n",
            " The approximation of the integral between 1 and 3 is : 1.0987307861328734. \n",
            "0.6931471805599453 1.0986122886681098\n"
          ]
        }
      ],
      "source": [
        "f = lambda x: 1/x\n",
        "my_trapezoidal(f, 1, 2, 50)\n",
        "my_trapezoidal(f, 1, 3, 50)\n",
        "\n",
        "print(np.log(2), np.log(3))\n",
        "\n",
        "\n"
      ]
    },
    {
      "cell_type": "markdown",
      "metadata": {
        "id": "2f4XEQmleQhL"
      },
      "source": [
        "#### Exercise 5\n",
        "\n",
        "Using the trapezoidal or simpson rule. Compute the area of the half circle of radius 1. Approximate pi."
      ]
    },
    {
      "cell_type": "code",
      "execution_count": 12,
      "metadata": {
        "colab": {
          "base_uri": "https://localhost:8080/",
          "height": 53
        },
        "id": "greg6LEq0Kal",
        "outputId": "bae9b7c6-71b2-4bc9-bc51-da0962e44141"
      },
      "outputs": [
        {
          "name": "stdout",
          "output_type": "stream",
          "text": [
            " The approximation of the integral between -1 and 1 is : 1.5660981554514979. \n"
          ]
        },
        {
          "data": {
            "application/vnd.google.colaboratory.intrinsic+json": {
              "type": "string"
            },
            "text/plain": [
              "'3.1321963109029958 is the pi approximation'"
            ]
          },
          "execution_count": 12,
          "metadata": {},
          "output_type": "execute_result"
        }
      ],
      "source": [
        "f = lambda x: sq(1-x**2)\n",
        "my_trapezoidal(f, -1, 1, 50)\n",
        "f\"{1.5660981554514979 * 2} is the pi approximation\"\n"
      ]
    },
    {
      "cell_type": "markdown",
      "metadata": {
        "id": "2umvUIl30Kx4"
      },
      "source": []
    },
    {
      "cell_type": "markdown",
      "metadata": {
        "id": "tfn9K-BjeQhM"
      },
      "source": [
        "## Exercise 6\n",
        "\n",
        "Using the Simpson method or trapezoidal rule, plot one of the antiderivative of $e^{x^2}$ between $-1$ and $1$."
      ]
    },
    {
      "cell_type": "code",
      "execution_count": 13,
      "metadata": {
        "colab": {
          "base_uri": "https://localhost:8080/",
          "height": 1000
        },
        "id": "hUUh7DBS6QVK",
        "outputId": "b988c19b-9ee3-4458-affc-68f21334ab4b"
      },
      "outputs": [
        {
          "name": "stdout",
          "output_type": "stream",
          "text": [
            " The approximation of the integral between -1 and 1 is : 2.9267528557523526. \n",
            " The approximation of the integral between -1 and -1.0 is : 0.0. \n",
            " The approximation of the integral between -1 and -0.9591836734693877 is : 0.10660047324050209. \n",
            " The approximation of the integral between -1 and -0.9183673469387755 is : 0.20517052271925681. \n",
            " The approximation of the integral between -1 and -0.8775510204081632 is : 0.29661955160210285. \n",
            " The approximation of the integral between -1 and -0.8367346938775511 is : 0.3817454053196687. \n",
            " The approximation of the integral between -1 and -0.7959183673469388 is : 0.46124997642662546. \n",
            " The approximation of the integral between -1 and -0.7551020408163265 is : 0.5357524908308016. \n",
            " The approximation of the integral between -1 and -0.7142857142857143 is : 0.6058008469994672. \n",
            " The approximation of the integral between -1 and -0.6734693877551021 is : 0.671881317363242. \n",
            " The approximation of the integral between -1 and -0.6326530612244898 is : 0.7344268697970342. \n",
            " The approximation of the integral between -1 and -0.5918367346938775 is : 0.7938243247325079. \n",
            " The approximation of the integral between -1 and -0.5510204081632654 is : 0.8504205285067132. \n",
            " The approximation of the integral between -1 and -0.5102040816326531 is : 0.9045276946475336. \n",
            " The approximation of the integral between -1 and -0.4693877551020409 is : 0.9564280408601579. \n",
            " The approximation of the integral between -1 and -0.4285714285714286 is : 1.0063778296337165. \n",
            " The approximation of the integral between -1 and -0.3877551020408164 is : 1.054610903920578. \n",
            " The approximation of the integral between -1 and -0.34693877551020413 is : 1.1013417956720306. \n",
            " The approximation of the integral between -1 and -0.30612244897959184 is : 1.14676847366965. \n",
            " The approximation of the integral between -1 and -0.26530612244897966 is : 1.1910747876858179. \n",
            " The approximation of the integral between -1 and -0.22448979591836737 is : 1.2344326582247858. \n",
            " The approximation of the integral between -1 and -0.1836734693877552 is : 1.2770040546814883. \n",
            " The approximation of the integral between -1 and -0.1428571428571429 is : 1.318942799501108. \n",
            " The approximation of the integral between -1 and -0.10204081632653073 is : 1.3603962316603735. \n",
            " The approximation of the integral between -1 and -0.061224489795918435 is : 1.4015067593875024. \n",
            " The approximation of the integral between -1 and -0.020408163265306145 is : 1.4424133293855232. \n",
            " The approximation of the integral between -1 and 0.020408163265306145 is : 1.483252837841657. \n",
            " The approximation of the integral between -1 and 0.06122448979591821 is : 1.5241615071330046. \n",
            " The approximation of the integral between -1 and 0.1020408163265305 is : 1.5652762513342715. \n",
            " The approximation of the integral between -1 and 0.1428571428571428 is : 1.6067360533723485. \n",
            " The approximation of the integral between -1 and 0.18367346938775508 is : 1.64868337694751. \n",
            " The approximation of the integral between -1 and 0.22448979591836715 is : 1.691265637160078. \n",
            " The approximation of the integral between -1 and 0.26530612244897944 is : 1.7346367551694553. \n",
            " The approximation of the integral between -1 and 0.30612244897959173 is : 1.778958824211843. \n",
            " The approximation of the integral between -1 and 0.346938775510204 is : 1.8244039169747788. \n",
            " The approximation of the integral between -1 and 0.3877551020408163 is : 1.87115606775358. \n",
            " The approximation of the integral between -1 and 0.4285714285714284 is : 1.9194134671036325. \n",
            " The approximation of the integral between -1 and 0.46938775510204067 is : 1.969390911988779. \n",
            " The approximation of the integral between -1 and 0.510204081632653 is : 2.0213225608788234. \n",
            " The approximation of the integral between -1 and 0.5510204081632653 is : 2.07546505107803. \n",
            " The approximation of the integral between -1 and 0.5918367346938773 is : 2.132101045029357. \n",
            " The approximation of the integral between -1 and 0.6326530612244896 is : 2.1915432837533535. \n",
            " The approximation of the integral between -1 and 0.6734693877551019 is : 2.2541392393352115. \n",
            " The approximation of the integral between -1 and 0.7142857142857142 is : 2.3202764749456954. \n",
            " The approximation of the integral between -1 and 0.7551020408163265 is : 2.390388840857344. \n",
            " The approximation of the integral between -1 and 0.7959183673469385 is : 2.4649636590153317. \n",
            " The approximation of the integral between -1 and 0.8367346938775508 is : 2.5445500778271017. \n",
            " The approximation of the integral between -1 and 0.8775510204081631 is : 2.6297688140342075. \n",
            " The approximation of the integral between -1 and 0.9183673469387754 is : 2.7213235411657597. \n",
            " The approximation of the integral between -1 and 0.9591836734693877 is : 2.820014235802376. \n",
            " The approximation of the integral between -1 and 1.0 is : 2.9267528557523526. \n"
          ]
        },
        {
          "data": {
            "text/plain": [
              "[<matplotlib.lines.Line2D at 0x7f8187d48e50>]"
            ]
          },
          "execution_count": 13,
          "metadata": {},
          "output_type": "execute_result"
        },
        {
          "data": {
            "image/png": "[encoded data removed]",
            "text/plain": [
              "<Figure size 432x288 with 1 Axes>"
            ]
          },
          "metadata": {
            "needs_background": "light"
          },
          "output_type": "display_data"
        }
      ],
      "source": [
        "f = lambda x: e**x**2\n",
        "my_trapezoidal(f, -1, 1, 50)\n",
        "y = []\n",
        "x = np.linspace(-1, 1, 50)\n",
        "for i in x:\n",
        "  y.append(my_trapezoidal(f, -1, i, 50))\n",
        "plt.plot(x, y)"
      ]
    },
    {
      "cell_type": "code",
      "execution_count": null,
      "metadata": {
        "id": "C7IYEG9-6QKJ"
      },
      "outputs": [],
      "source": []
    },
    {
      "cell_type": "markdown",
      "metadata": {
        "id": "wohbIOWueQhM"
      },
      "source": [
        "## Numerical Derivatives"
      ]
    },
    {
      "cell_type": "markdown",
      "metadata": {
        "id": "RKxIm1xdeQhN"
      },
      "source": [
        "### Exercise 7\n",
        "\n",
        "In the following instances, find the numerical derivative of $xe^{x^2}$ at $x=0$, using the backward, forward, and centered formula with $h=0.05$. Then for each approximation compute the error and  **specify which one is more accurate.**"
      ]
    },
    {
      "cell_type": "code",
      "execution_count": 14,
      "metadata": {
        "colab": {
          "base_uri": "https://localhost:8080/"
        },
        "id": "QGlKo5h7eQhO",
        "outputId": "5d5d86d4-f924-4af4-8637-4a1e9daaf029"
      },
      "outputs": [
        {
          "name": "stdout",
          "output_type": "stream",
          "text": [
            "f'x approximation using forward method is: 8.223235144150909\n",
            "f'x approximation using center method is: 8.155275889797098\n",
            "f'x approximation using backward method is: 8.087316635443287\n",
            "8.154845485377136\n",
            "foreward error: 0.06838965877377312, center error: 0.000430404419962116, backward error: 0.06752884993384889\n",
            "For this differentiation the Center method had the lowest error\n"
          ]
        }
      ],
      "source": [
        "f = lambda x: x*e**x**2\n",
        "t=[]\n",
        "def foreward(f, a, h):\n",
        "  y = ( f(a+h)- f(a) ) /h\n",
        "  print(f\"f'x approximation using forward method is: {y}\")\n",
        "\n",
        "def center(f, a, h):\n",
        "  f = ( f(a+h)- f(a-h) )/(2*h)\n",
        "  print(f\"f'x approximation using center method is: {f}\")\n",
        "  #t.append(f)\n",
        "\n",
        "def backward(f, a, h):\n",
        "  y = ( f(a)- f(a-h) )/h\n",
        "  print(f\"f'x approximation using backward method is: {y}\")\n",
        "foreward(f, 1, .005)\n",
        "center(f, 1, .005)\n",
        "backward(f, 1, .005)\n",
        "\n",
        "x = sp.symbols('x')\n",
        "# FUNCTION HERE v\n",
        "f = x*sp.exp(1)**x**2\n",
        "df = f.diff()\n",
        "df\n",
        "fp = lambda x: 2*x**2*e**x**2 + e**x**2\n",
        "print(fp(1))\n",
        "\n",
        "error1 = np.abs(fp(1) -(8.223235144150909) )\n",
        "error2 = np.abs(fp(1) -(8.155275889797098) )\n",
        "error3 = np.abs(fp(1) -(8.087316635443287) )\n",
        "\n",
        "print(f\"foreward error: {error1}, center error: {error2}, backward error: {error3}\")\n",
        "\n",
        "print(\"For this differentiation the Center method had the lowest error\")"
      ]
    },
    {
      "cell_type": "markdown",
      "metadata": {
        "id": "L7nzGN1TeQhO"
      },
      "source": [
        "\n",
        "#### Exercise 8\n",
        "\n",
        "In the following instances, find the numerical derivative at the indicated point, using the backward, forward, and centered formula. Use $h=0.05$.\n",
        " \n",
        "1.  $\\cos^{-1}(x^2)$ at $x=\\frac{1}{2}$.\n",
        "2. $\\sqrt{1+\\sin^2(x)}$ at $x=\\pi$."
      ]
    },
    {
      "cell_type": "code",
      "execution_count": 16,
      "metadata": {
        "colab": {
          "base_uri": "https://localhost:8080/"
        },
        "id": "VFCF9ycyeQhO",
        "outputId": "1347f141-1fb3-4c73-ce76-386a4d60d387"
      },
      "outputs": [
        {
          "name": "stdout",
          "output_type": "stream",
          "text": [
            "f'x approximation using forward method is: -1.0386605766601331\n",
            "f'x approximation using center method is: -1.0328079533491907\n",
            "f'x approximation using backward method is: -1.0269553300382483\n",
            " \n",
            "f'x approximation using forward method is: 0.0024999635421796285\n",
            "f'x approximation using center method is: 0.0\n",
            "f'x approximation using backward method is: -0.0024999635421796285\n"
          ]
        }
      ],
      "source": [
        "f = lambda x: np.arccos(x**2)\n",
        "\n",
        "foreward(f, 1/2, .005)\n",
        "center(f, 1/2, .005)\n",
        "backward(f, 1/2, .005)\n",
        "\n",
        "print(\" \")\n",
        "\n",
        "f = lambda x: sq(1+ sin(x)**2)\n",
        "\n",
        "foreward(f, pi, .005)\n",
        "center(f, pi, .005)\n",
        "backward(f, pi, .005)"
      ]
    },
    {
      "cell_type": "markdown",
      "metadata": {
        "id": "1UozVEJqeQhO"
      },
      "source": [
        "## Exercise 9\n",
        "\n",
        "Using the centered method, plot the derivative of $e^{x^2}$ betwee $0$ and $2$.\n"
      ]
    },
    {
      "cell_type": "code",
      "execution_count": 17,
      "metadata": {
        "colab": {
          "base_uri": "https://localhost:8080/",
          "height": 1000
        },
        "id": "I-rANSNFeQhO",
        "outputId": "579e0b98-9dad-4d56-f8cf-23156dd41881"
      },
      "outputs": [
        {
          "name": "stdout",
          "output_type": "stream",
          "text": [
            "f'x approximation using center method is: 0.0\n",
            "f'x approximation using center method is: 0.08177081067957115\n",
            "f'x approximation using center method is: 0.16436104856207834\n",
            "f'x approximation using center method is: 0.24860384191442986\n",
            "f'x approximation using center method is: 0.335360042208821\n",
            "f'x approximation using center method is: 0.42553289810363104\n",
            "f'x approximation using center method is: 0.5200837317532292\n",
            "f'x approximation using center method is: 0.620048998435907\n",
            "f'x approximation using center method is: 0.7265591528978987\n",
            "f'x approximation using center method is: 0.8408598017181745\n",
            "f'x approximation using center method is: 0.9643356925218782\n",
            "f'x approximation using center method is: 1.0985381807446126\n",
            "f'x approximation using center method is: 1.2452169263578172\n",
            "f'x approximation using center method is: 1.4063567108901776\n",
            "f'x approximation using center method is: 1.5842204347154443\n",
            "f'x approximation using center method is: 1.7813995627768309\n",
            "f'x approximation using center method is: 2.0008735422344603\n",
            "f'x approximation using center method is: 2.246080028608377\n",
            "f'x approximation using center method is: 2.5209981411312032\n",
            "f'x approximation using center method is: 2.8302474398010036\n",
            "f'x approximation using center method is: 3.1792058967475167\n",
            "f'x approximation using center method is: 3.5741508489086193\n",
            "f'x approximation using center method is: 4.022427800133821\n",
            "f'x approximation using center method is: 4.5326530294449885\n",
            "f'x approximation using center method is: 5.1149573095483625\n",
            "f'x approximation using center method is: 5.781279710367704\n",
            "f'x approximation using center method is: 6.545722537834697\n",
            "f'x approximation using center method is: 7.424981041463763\n",
            "f'x approximation using center method is: 8.43886474586295\n",
            "f'x approximation using center method is: 9.610931286971258\n",
            "f'x approximation using center method is: 10.969258674152638\n",
            "f'x approximation using center method is: 12.547388222829436\n",
            "f'x approximation using center method is: 14.385478351923098\n",
            "f'x approximation using center method is: 16.531719454627947\n",
            "f'x approximation using center method is: 19.044072692314185\n",
            "f'x approximation using center method is: 21.992411552030955\n",
            "f'x approximation using center method is: 25.46116527809197\n",
            "f'x approximation using center method is: 29.552589037131938\n",
            "f'x approximation using center method is: 34.39081845439169\n",
            "f'x approximation using center method is: 40.12690797530922\n",
            "f'x approximation using center method is: 46.94510596800168\n",
            "f'x approximation using center method is: 55.07068798022807\n",
            "f'x approximation using center method is: 64.77975752020484\n",
            "f'x approximation using center method is: 76.4115369195789\n",
            "f'x approximation using center method is: 90.38381682078303\n",
            "f'x approximation using center method is: 107.21242153082144\n",
            "f'x approximation using center method is: 127.53579194500162\n",
            "f'x approximation using center method is: 152.1461051588794\n",
            "f'x approximation using center method is: 182.0287629600486\n",
            "f'x approximation using center method is: 218.41262017769196\n"
          ]
        },
        {
          "data": {
            "image/png": "[encoded data removed]",
            "text/plain": [
              "<Figure size 432x288 with 1 Axes>"
            ]
          },
          "metadata": {
            "needs_background": "light"
          },
          "output_type": "display_data"
        }
      ],
      "source": [
        "t = []\n",
        "f = lambda x: e**x**2\n",
        "df = 2*x*e**x**2\n",
        "x = np.linspace(0, 2, 50)\n",
        "for i in x:\n",
        "  center(f, i, .005)\n",
        "\n",
        "t = [0.0, 0.08177081067957115, 0.16436104856207834, 0.24860384191442986, 0.335360042208821, 0.42553289810363104, 0.5200837317532292, 0.620048998435907, 0.7265591528978987, 0.8408598017181745, 0.9643356925218782, 1.0985381807446126, 1.2452169263578172, 1.4063567108901776, 1.5842204347154443, 1.7813995627768309, 2.0008735422344603, 2.246080028608377, 2.5209981411312032, 2.8302474398010036, 3.1792058967475167, 3.5741508489086193, 4.022427800133821, 4.5326530294449885, 5.1149573095483625, 5.781279710367704, 6.545722537834697, 7.424981041463763, 8.43886474586295, 9.610931286971258, 10.969258674152638, 12.547388222829436, 14.385478351923098, 16.531719454627947, 19.044072692314185, 21.992411552030955, 25.46116527809197, 29.552589037131938, 34.39081845439169, 40.12690797530922, 46.94510596800168, 55.07068798022807, 64.77975752020484, 76.4115369195789, 90.38381682078303, 107.21242153082144, 127.53579194500162, 152.1461051588794, 182.0287629600486, 218.41262017769196]\n",
        "\n",
        "plt.plot(x, t, label = \"f'(x) approximation\")\n",
        "#plt.plot(x, df, label = \"f'(x)\")\n",
        "plt.legend()\n",
        "plt.show()\n",
        "\n",
        "\n"
      ]
    },
    {
      "cell_type": "markdown",
      "metadata": {
        "id": "-xozZyZreQhO"
      },
      "source": [
        "## Bonus\n",
        "\n",
        "Using the [montecarlo integration](https://en.wikipedia.org/wiki/Monte_Carlo_integration), find a way to approximate the value of $\\pi$."
      ]
    },
    {
      "cell_type": "code",
      "execution_count": null,
      "metadata": {
        "id": "ikO9ctfaeQhP"
      },
      "outputs": [],
      "source": []
    }
  ],
  "metadata": {
    "colab": {
      "collapsed_sections": [
        "tfn9K-BjeQhM",
        "wohbIOWueQhM",
        "RKxIm1xdeQhN",
        "L7nzGN1TeQhO",
        "1UozVEJqeQhO",
        "-xozZyZreQhO"
      ],
      "provenance": []
    },
    "kernelspec": {
      "display_name": "Python 3.10.4 64-bit",
      "language": "python",
      "name": "python3"
    },
    "language_info": {
      "codemirror_mode": {
        "name": "ipython",
        "version": 3
      },
      "file_extension": ".py",
      "mimetype": "text/x-python",
      "name": "python",
      "nbconvert_exporter": "python",
      "pygments_lexer": "ipython3",
      "version": "3.10.4"
    },
    "vscode": {
      "interpreter": {
        "hash": "aee8b7b246df8f9039afb4144a1f6fd8d2ca17a180786b69acc140d282b71a49"
      }
    }
  },
  "nbformat": 4,
  "nbformat_minor": 0
}
